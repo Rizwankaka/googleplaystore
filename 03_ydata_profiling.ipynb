{
 "cells": [
  {
   "cell_type": "markdown",
   "metadata": {},
   "source": [
    "# Automatic EDA using `ydata_profiling`"
   ]
  },
  {
   "cell_type": "code",
   "execution_count": 1,
   "metadata": {},
   "outputs": [
    {
     "name": "stderr",
     "output_type": "stream",
     "text": [
      "c:\\Users\\Tesla Laptops\\.conda\\envs\\ydata_profiling\\lib\\site-packages\\tqdm\\auto.py:21: TqdmWarning: IProgress not found. Please update jupyter and ipywidgets. See https://ipywidgets.readthedocs.io/en/stable/user_install.html\n",
      "  from .autonotebook import tqdm as notebook_tqdm\n"
     ]
    }
   ],
   "source": [
    "# import libraries \n",
    "import pandas as pd\n",
    "import numpy as np\n",
    "import seaborn as sns\n",
    "import ydata_profiling as yd"
   ]
  },
  {
   "cell_type": "code",
   "execution_count": 2,
   "metadata": {},
   "outputs": [],
   "source": [
    "# import data from seaborn\n",
    "df=sns.load_dataset('titanic')"
   ]
  },
  {
   "cell_type": "code",
   "execution_count": 3,
   "metadata": {},
   "outputs": [
    {
     "name": "stderr",
     "output_type": "stream",
     "text": [
      "Summarize dataset: 100%|██████████| 41/41 [00:08<00:00,  4.64it/s, Completed]                    \n",
      "Generate report structure: 100%|██████████| 1/1 [00:08<00:00,  8.75s/it]\n",
      "Render HTML: 100%|██████████| 1/1 [00:02<00:00,  2.73s/it]\n",
      "Export report to file: 100%|██████████| 1/1 [00:00<00:00, 99.06it/s]\n"
     ]
    }
   ],
   "source": [
    "# yda profiling report\n",
    "profile= yd.ProfileReport(df)\n",
    "profile.to_file(output_file='./outputs/03_ydata_profiling_titanic.html')\n"
   ]
  },
  {
   "cell_type": "markdown",
   "metadata": {},
   "source": [
    "# Do it on Pak Population Dataset"
   ]
  },
  {
   "cell_type": "code",
   "execution_count": 6,
   "metadata": {},
   "outputs": [
    {
     "name": "stderr",
     "output_type": "stream",
     "text": [
      "Summarize dataset: 100%|██████████| 319/319 [01:11<00:00,  4.45it/s, Completed]                                                     \n",
      "Generate report structure: 100%|██████████| 1/1 [00:15<00:00, 15.19s/it]\n",
      "Render HTML: 100%|██████████| 1/1 [00:20<00:00, 20.43s/it]\n",
      "Export report to file: 100%|██████████| 1/1 [00:00<00:00,  7.61it/s]\n"
     ]
    }
   ],
   "source": [
    "df_pop=pd.read_csv('./data/population_of_Pakistan.csv')\n",
    "profile= yd.ProfileReport(df_pop)\n",
    "profile.to_file(output_file='./outputs/03_ydata_profiling_pak_pop.html')"
   ]
  }
 ],
 "metadata": {
  "kernelspec": {
   "display_name": "ydata_profiling",
   "language": "python",
   "name": "python3"
  },
  "language_info": {
   "codemirror_mode": {
    "name": "ipython",
    "version": 3
   },
   "file_extension": ".py",
   "mimetype": "text/x-python",
   "name": "python",
   "nbconvert_exporter": "python",
   "pygments_lexer": "ipython3",
   "version": "3.10.0"
  }
 },
 "nbformat": 4,
 "nbformat_minor": 2
}
